{
 "cells": [
  {
   "cell_type": "code",
   "execution_count": 9,
   "id": "4aa24e95",
   "metadata": {},
   "outputs": [],
   "source": [
    "import pandas as pd\n",
    "import os\n",
    "import csv\n",
    "\n",
    "import re\n",
    "import datetime \n",
    "import io\n",
    "from zipfile import ZipFile\n",
    "\n",
    "import pandas as pd\n",
    "import numpy as np\n",
    "import pandas_gbq\n",
    "import janitor\n"
   ]
  },
  {
   "cell_type": "markdown",
   "id": "21644083",
   "metadata": {},
   "source": [
    "# Empty Pandas Dataframe"
   ]
  },
  {
   "cell_type": "markdown",
   "id": "db5037fe",
   "metadata": {},
   "source": [
    "First lets make our empty pandas dataframe to hold our data later on in the program."
   ]
  },
  {
   "cell_type": "code",
   "execution_count": 10,
   "id": "0a6c0662",
   "metadata": {},
   "outputs": [],
   "source": [
    "wedge_summary = pd.DataFrame()"
   ]
  },
  {
   "cell_type": "markdown",
   "id": "b869195b",
   "metadata": {},
   "source": [
    "Now lets add our columns to the empty dataframe"
   ]
  },
  {
   "cell_type": "code",
   "execution_count": 11,
   "id": "5d192c41",
   "metadata": {},
   "outputs": [],
   "source": [
    "wedge_summary['file_name'] = ''"
   ]
  },
  {
   "cell_type": "code",
   "execution_count": 12,
   "id": "e9aaa54f",
   "metadata": {},
   "outputs": [],
   "source": [
    "wedge_summary['num_rows'] = ''"
   ]
  },
  {
   "cell_type": "code",
   "execution_count": 13,
   "id": "b874a5e8",
   "metadata": {},
   "outputs": [],
   "source": [
    "wedge_summary['num_cards'] = ''"
   ]
  },
  {
   "cell_type": "code",
   "execution_count": 14,
   "id": "4428b26a",
   "metadata": {},
   "outputs": [],
   "source": [
    "wedge_summary['num_dates'] = ''"
   ]
  },
  {
   "cell_type": "code",
   "execution_count": 15,
   "id": "824ff012",
   "metadata": {
    "scrolled": false
   },
   "outputs": [
    {
     "data": {
      "text/html": [
       "<div>\n",
       "<style scoped>\n",
       "    .dataframe tbody tr th:only-of-type {\n",
       "        vertical-align: middle;\n",
       "    }\n",
       "\n",
       "    .dataframe tbody tr th {\n",
       "        vertical-align: top;\n",
       "    }\n",
       "\n",
       "    .dataframe thead th {\n",
       "        text-align: right;\n",
       "    }\n",
       "</style>\n",
       "<table border=\"1\" class=\"dataframe\">\n",
       "  <thead>\n",
       "    <tr style=\"text-align: right;\">\n",
       "      <th></th>\n",
       "      <th>file_name</th>\n",
       "      <th>num_rows</th>\n",
       "      <th>num_cards</th>\n",
       "      <th>num_dates</th>\n",
       "    </tr>\n",
       "  </thead>\n",
       "  <tbody>\n",
       "  </tbody>\n",
       "</table>\n",
       "</div>"
      ],
      "text/plain": [
       "Empty DataFrame\n",
       "Columns: [file_name, num_rows, num_cards, num_dates]\n",
       "Index: []"
      ]
     },
     "execution_count": 15,
     "metadata": {},
     "output_type": "execute_result"
    }
   ],
   "source": [
    "wedge_summary"
   ]
  },
  {
   "cell_type": "markdown",
   "id": "b8500493",
   "metadata": {},
   "source": [
    "# Working with Zip Files"
   ]
  },
  {
   "cell_type": "markdown",
   "id": "84209490",
   "metadata": {},
   "source": [
    "Now let's get our zip files from the wedge data into a list for future reference."
   ]
  },
  {
   "cell_type": "code",
   "execution_count": 16,
   "id": "a42fb8b2",
   "metadata": {
    "scrolled": true
   },
   "outputs": [
    {
     "data": {
      "text/plain": [
       "['transArchive_201310_201312_small.zip',\n",
       " 'transArchive_201207_201209_small.zip',\n",
       " 'transArchive_201204_201206_inactive_small.zip',\n",
       " 'transArchive_201304_201306_inactive_small.zip',\n",
       " 'transArchive_201007_201009_small.zip',\n",
       " 'transArchive_201105_small.zip',\n",
       " 'transArchive_201110_201112_small.zip',\n",
       " 'transArchive_201304_201306_small.zip',\n",
       " 'transArchive_201404_201406_inactive_small.zip',\n",
       " 'transArchive_201504_201506_small.zip',\n",
       " 'transArchive_201612_small.zip',\n",
       " 'transArchive_201606_small.zip',\n",
       " 'transArchive_201401_201403_inactive_small.zip',\n",
       " 'transArchive_201407_201409_small.zip',\n",
       " 'transArchive_201201_201203_inactive_small.zip',\n",
       " 'transArchive_201301_201303_inactive_small.zip',\n",
       " 'transArchive_201310_201312_inactive_small.zip',\n",
       " 'transArchive_201107_201109_small.zip',\n",
       " 'transArchive_201601_small.zip',\n",
       " 'transArchive_201210_201212_inactive_small.zip',\n",
       " 'transArchive_201010_201012_small.zip',\n",
       " 'transArchive_201204_201206_small.zip',\n",
       " 'transArchive_201410_201412_inactive_small.zip',\n",
       " 'transArchive_201210_201212_small.zip',\n",
       " 'transArchive_201104_small.zip',\n",
       " 'transArchive_201307_201309_small.zip',\n",
       " 'transArchive_201512_small.zip',\n",
       " 'transArchive_201004_201006_small.zip',\n",
       " 'transArchive_201207_201209_inactive_small.zip',\n",
       " 'transArchive_201307_201309_inactive_small.zip',\n",
       " 'transArchive_201507_201509_small.zip',\n",
       " 'transArchive_201607_small.zip',\n",
       " 'transArchive_201410_201412_small.zip',\n",
       " 'transArchive_201404_201406_small.zip',\n",
       " 'transArchive_201407_201409_inactive_small.zip',\n",
       " 'transArchive_201602_small.zip',\n",
       " 'transArchive_201301_201303_small.zip',\n",
       " 'transArchive_201101_201103_small.zip',\n",
       " 'transArchive_201511_small.zip',\n",
       " 'transArchive_201610_small.zip',\n",
       " 'transArchive_201604_small.zip',\n",
       " 'transArchive_201501_201503_small.zip',\n",
       " 'transArchive_201609_small.zip',\n",
       " 'transArchive_201001_201003_small.zip',\n",
       " 'transArchive_201603_small.zip',\n",
       " 'transArchive_201106_small.zip',\n",
       " 'transArchive_201201_201203_small.zip',\n",
       " 'transArchive_201510_small.zip',\n",
       " 'transArchive_201605_small.zip',\n",
       " 'transArchive_201401_201403_small.zip',\n",
       " 'transArchive_201611_small.zip',\n",
       " 'transArchive_201608_small.zip',\n",
       " 'transArchive_201701_small.zip']"
      ]
     },
     "execution_count": 16,
     "metadata": {},
     "output_type": "execute_result"
    }
   ],
   "source": [
    "## now let me get a list of the zipped files from the Wedge Download\n",
    "\n",
    "zip_files = os.listdir(\"holder/\")\n",
    "zip_files"
   ]
  },
  {
   "cell_type": "markdown",
   "id": "2cc9489a",
   "metadata": {},
   "source": [
    "Iterate over the zip files that hold the Wedge transaction files, and use the CSV Sniffer for delimiters.\n"
   ]
  },
  {
   "cell_type": "code",
   "execution_count": 19,
   "id": "8fd85d97",
   "metadata": {
    "scrolled": true
   },
   "outputs": [],
   "source": [
    "\n",
    "\n",
    "#now lets make a dict to hold delimeters found in sniffer\n",
    "\n",
    "delimiter_dict = dict()\n",
    "\n",
    "#Here I read in my files\n",
    "for zip in zip_files:\n",
    "    with ZipFile(\"holder/\" + zip, 'r') as zf :\n",
    "        files_in_zip = zf.namelist()\n",
    "        \n",
    "        #now I can open the files\n",
    "        for file in files_in_zip:\n",
    "            open_file = zf.open(file, 'r')\n",
    "            open_file = io.TextIOWrapper(open_file, encoding = \"utf-8\")\n",
    "            \n",
    "            #initialize the sniffer!\n",
    "            sniffer = csv.Sniffer().sniff(sample = open_file.readline())\n",
    "            #print(sniffer.delimiter)\n",
    "            \n",
    "            #add results to our dictionary\n",
    "            delimiter_dict[file] = sniffer.delimiter\n",
    "                \n",
    "            open_file.close()\n",
    "    \n",
    "           \n",
    "           \n",
    "           "
   ]
  },
  {
   "cell_type": "code",
   "execution_count": 20,
   "id": "3a4c2417",
   "metadata": {},
   "outputs": [
    {
     "data": {
      "text/plain": [
       "','"
      ]
     },
     "execution_count": 20,
     "metadata": {},
     "output_type": "execute_result"
    }
   ],
   "source": [
    "delimiter_dict[file]"
   ]
  },
  {
   "cell_type": "markdown",
   "id": "e5b82993",
   "metadata": {},
   "source": [
    "Now let's look for headers"
   ]
  },
  {
   "cell_type": "code",
   "execution_count": 21,
   "id": "a30d81e0",
   "metadata": {},
   "outputs": [],
   "source": [
    "header_dict = dict()\n",
    "#Here I read in my files\n",
    "for zip in zip_files:\n",
    "    with ZipFile(\"holder/\" + zip, 'r') as zf :\n",
    "        files_in_zip = zf.namelist()\n",
    "        \n",
    "        #now I can open the files\n",
    "        for file in files_in_zip:\n",
    "            open_file = zf.open(file, 'r')\n",
    "            open_file = io.TextIOWrapper(open_file, encoding = \"utf-8\")     #now lets look for headers\n",
    "\n",
    "            for line in open_file:\n",
    "                if line[0] == \"d\" or line[0:2] == '\"d':\n",
    "                    header_dict[file] = \"headers\"\n",
    "                    break\n",
    "                else:\n",
    "                    header_dict[file] = \"no_headers\"\n",
    "                    break\n",
    "        "
   ]
  },
  {
   "cell_type": "code",
   "execution_count": 22,
   "id": "f7dc9023",
   "metadata": {
    "scrolled": true
   },
   "outputs": [
    {
     "data": {
      "text/plain": [
       "'no_headers'"
      ]
     },
     "execution_count": 22,
     "metadata": {},
     "output_type": "execute_result"
    }
   ],
   "source": [
    "header_dict[file]"
   ]
  },
  {
   "cell_type": "markdown",
   "id": "ae188c6f",
   "metadata": {},
   "source": [
    "Now lets read the files into a pandas dataframe"
   ]
  },
  {
   "cell_type": "code",
   "execution_count": 23,
   "id": "27713df8",
   "metadata": {},
   "outputs": [],
   "source": [
    "headers = \"\"\"datetime  register_no    emp_no    trans_no    upc    description    trans_type    trans_subtype    trans_status    department\n",
    "quantity    Scale    cost    unitPrice    total    regPrice    altPrice    tax    taxexempt    foodstamp    wicable\n",
    "discount    memDiscount    discountable    discounttype    voided    percentDiscount    ItemQtty    volDiscType    volume\n",
    "VolSpecial    mixMatch    matched    memType    staff    numflag    itemstatus    tenderstatus    charflag    varflag\n",
    "batchHeaderID    local    organic    display    receipt    card_no    store    branch    match_id    trans_id\n",
    "\"\"\".split()"
   ]
  },
  {
   "cell_type": "markdown",
   "id": "b53b40b3",
   "metadata": {},
   "source": [
    "# Reading all Zip Files into Pandas Dataframes"
   ]
  },
  {
   "cell_type": "markdown",
   "id": "e7ceb3d4",
   "metadata": {},
   "source": [
    "Now put it all together, read in our zips, open the file, check for the delimiter, the presence of headers, and read into PD DF."
   ]
  },
  {
   "cell_type": "code",
   "execution_count": 25,
   "id": "514f99e8",
   "metadata": {},
   "outputs": [],
   "source": [
    "final_dfs= []\n",
    "\n",
    "\n",
    "for zip in zip_files:\n",
    "    with ZipFile(\"holder/\" + zip, 'r') as zf :\n",
    "        files_in_zip = zf.namelist()\n",
    "        \n",
    "        #now I can open the files\n",
    "        for file in files_in_zip:\n",
    "            open_file = zf.open(file, 'r')\n",
    "            open_file = io.TextIOWrapper(open_file, encoding = \"utf-8\")\n",
    "            \n",
    "            #check open_file's delimeter\n",
    "            sniffer = csv.Sniffer().sniff(sample = open_file.readline())\n",
    "            \n",
    "            #check open_file for headers\n",
    "            for line in open_file:\n",
    "                if line[0] == \"d\" or line[0:2] == '\"d':\n",
    "                    df = pd.read_csv(open_file, sep = sniffer.delimiter)\n",
    "                    final_dfs.append(df)\n",
    "                    \n",
    "                                        \n",
    "                else:\n",
    "                    df = pd.read_csv(open_file, sep = sniffer.delimiter, names = headers)\n",
    "                    final_dfs.append(df)\n",
    "                    \n",
    "            \n",
    "              \n",
    "            "
   ]
  },
  {
   "cell_type": "code",
   "execution_count": 26,
   "id": "f4882457",
   "metadata": {
    "scrolled": false
   },
   "outputs": [
    {
     "data": {
      "text/plain": [
       "53"
      ]
     },
     "execution_count": 26,
     "metadata": {},
     "output_type": "execute_result"
    }
   ],
   "source": [
    "len(final_dfs)"
   ]
  },
  {
   "cell_type": "markdown",
   "id": "cd7b9e8f",
   "metadata": {},
   "source": [
    "# Filling my Empty Dataframe"
   ]
  },
  {
   "cell_type": "markdown",
   "id": "18a95af6",
   "metadata": {},
   "source": [
    "Now for each file we need to store a row in wedge summary   "
   ]
  },
  {
   "cell_type": "code",
   "execution_count": 27,
   "id": "1abe5e63",
   "metadata": {},
   "outputs": [],
   "source": [
    "#empty list\n",
    "cards = []\n",
    "\n",
    "dates = []\n",
    "\n",
    "rows =[]\n",
    "\n",
    "\n",
    "for df in final_dfs:\n",
    "    df['datetime'] = pd.to_datetime(df['datetime'])\n",
    "    \n",
    "    cards.append(df.card_no.nunique())\n",
    "    dates.append(df['datetime'].dt.date.nunique())\n",
    "    rows.append(df.shape[0])\n",
    "    #break\n",
    "    \n",
    "#zip_files\n",
    "\n",
    "wedge_summary[\"file_name\"] = zip_files\n",
    "wedge_summary[\"num_cards\"] = cards\n",
    "wedge_summary[\"num_dates\"] = dates\n",
    "wedge_summary[\"num_rows\"] = rows"
   ]
  },
  {
   "cell_type": "code",
   "execution_count": 28,
   "id": "0d271c07",
   "metadata": {},
   "outputs": [
    {
     "data": {
      "text/plain": [
       "413"
      ]
     },
     "execution_count": 28,
     "metadata": {},
     "output_type": "execute_result"
    }
   ],
   "source": [
    "#calculate cards\n",
    "\n",
    "df.card_no.nunique()"
   ]
  },
  {
   "cell_type": "code",
   "execution_count": 29,
   "id": "86ca0994",
   "metadata": {},
   "outputs": [
    {
     "data": {
      "text/plain": [
       "(9999, 50)"
      ]
     },
     "execution_count": 29,
     "metadata": {},
     "output_type": "execute_result"
    }
   ],
   "source": [
    "#calc rows\n",
    "\n",
    "df.shape"
   ]
  },
  {
   "cell_type": "code",
   "execution_count": 30,
   "id": "d77ad65b",
   "metadata": {},
   "outputs": [
    {
     "data": {
      "text/plain": [
       "1"
      ]
     },
     "execution_count": 30,
     "metadata": {},
     "output_type": "execute_result"
    }
   ],
   "source": [
    "df['datetime'] = pd.to_datetime(df['datetime'])\n",
    "df['datetime'].dt.date.nunique()"
   ]
  },
  {
   "cell_type": "markdown",
   "id": "6ac72f61",
   "metadata": {},
   "source": [
    "# Results"
   ]
  },
  {
   "cell_type": "code",
   "execution_count": 31,
   "id": "a16b1ea9",
   "metadata": {},
   "outputs": [
    {
     "data": {
      "text/html": [
       "<div>\n",
       "<style scoped>\n",
       "    .dataframe tbody tr th:only-of-type {\n",
       "        vertical-align: middle;\n",
       "    }\n",
       "\n",
       "    .dataframe tbody tr th {\n",
       "        vertical-align: top;\n",
       "    }\n",
       "\n",
       "    .dataframe thead th {\n",
       "        text-align: right;\n",
       "    }\n",
       "</style>\n",
       "<table border=\"1\" class=\"dataframe\">\n",
       "  <thead>\n",
       "    <tr style=\"text-align: right;\">\n",
       "      <th></th>\n",
       "      <th>file_name</th>\n",
       "      <th>num_rows</th>\n",
       "      <th>num_cards</th>\n",
       "      <th>num_dates</th>\n",
       "    </tr>\n",
       "  </thead>\n",
       "  <tbody>\n",
       "    <tr>\n",
       "      <th>0</th>\n",
       "      <td>transArchive_201310_201312_small.zip</td>\n",
       "      <td>9999</td>\n",
       "      <td>399</td>\n",
       "      <td>1</td>\n",
       "    </tr>\n",
       "    <tr>\n",
       "      <th>1</th>\n",
       "      <td>transArchive_201207_201209_small.zip</td>\n",
       "      <td>9999</td>\n",
       "      <td>356</td>\n",
       "      <td>1</td>\n",
       "    </tr>\n",
       "    <tr>\n",
       "      <th>2</th>\n",
       "      <td>transArchive_201204_201206_inactive_small.zip</td>\n",
       "      <td>9999</td>\n",
       "      <td>464</td>\n",
       "      <td>4</td>\n",
       "    </tr>\n",
       "    <tr>\n",
       "      <th>3</th>\n",
       "      <td>transArchive_201304_201306_inactive_small.zip</td>\n",
       "      <td>9999</td>\n",
       "      <td>438</td>\n",
       "      <td>7</td>\n",
       "    </tr>\n",
       "    <tr>\n",
       "      <th>4</th>\n",
       "      <td>transArchive_201007_201009_small.zip</td>\n",
       "      <td>9999</td>\n",
       "      <td>398</td>\n",
       "      <td>1</td>\n",
       "    </tr>\n",
       "    <tr>\n",
       "      <th>5</th>\n",
       "      <td>transArchive_201105_small.zip</td>\n",
       "      <td>9999</td>\n",
       "      <td>334</td>\n",
       "      <td>1</td>\n",
       "    </tr>\n",
       "    <tr>\n",
       "      <th>6</th>\n",
       "      <td>transArchive_201110_201112_small.zip</td>\n",
       "      <td>9999</td>\n",
       "      <td>351</td>\n",
       "      <td>1</td>\n",
       "    </tr>\n",
       "    <tr>\n",
       "      <th>7</th>\n",
       "      <td>transArchive_201304_201306_small.zip</td>\n",
       "      <td>9999</td>\n",
       "      <td>390</td>\n",
       "      <td>1</td>\n",
       "    </tr>\n",
       "    <tr>\n",
       "      <th>8</th>\n",
       "      <td>transArchive_201404_201406_inactive_small.zip</td>\n",
       "      <td>9999</td>\n",
       "      <td>238</td>\n",
       "      <td>19</td>\n",
       "    </tr>\n",
       "    <tr>\n",
       "      <th>9</th>\n",
       "      <td>transArchive_201504_201506_small.zip</td>\n",
       "      <td>9999</td>\n",
       "      <td>478</td>\n",
       "      <td>1</td>\n",
       "    </tr>\n",
       "    <tr>\n",
       "      <th>10</th>\n",
       "      <td>transArchive_201612_small.zip</td>\n",
       "      <td>9999</td>\n",
       "      <td>464</td>\n",
       "      <td>1</td>\n",
       "    </tr>\n",
       "    <tr>\n",
       "      <th>11</th>\n",
       "      <td>transArchive_201606_small.zip</td>\n",
       "      <td>9999</td>\n",
       "      <td>464</td>\n",
       "      <td>1</td>\n",
       "    </tr>\n",
       "    <tr>\n",
       "      <th>12</th>\n",
       "      <td>transArchive_201401_201403_inactive_small.zip</td>\n",
       "      <td>9999</td>\n",
       "      <td>288</td>\n",
       "      <td>15</td>\n",
       "    </tr>\n",
       "    <tr>\n",
       "      <th>13</th>\n",
       "      <td>transArchive_201407_201409_small.zip</td>\n",
       "      <td>9999</td>\n",
       "      <td>390</td>\n",
       "      <td>1</td>\n",
       "    </tr>\n",
       "    <tr>\n",
       "      <th>14</th>\n",
       "      <td>transArchive_201201_201203_inactive_small.zip</td>\n",
       "      <td>9999</td>\n",
       "      <td>461</td>\n",
       "      <td>5</td>\n",
       "    </tr>\n",
       "    <tr>\n",
       "      <th>15</th>\n",
       "      <td>transArchive_201301_201303_inactive_small.zip</td>\n",
       "      <td>9999</td>\n",
       "      <td>404</td>\n",
       "      <td>6</td>\n",
       "    </tr>\n",
       "    <tr>\n",
       "      <th>16</th>\n",
       "      <td>transArchive_201310_201312_inactive_small.zip</td>\n",
       "      <td>9999</td>\n",
       "      <td>358</td>\n",
       "      <td>10</td>\n",
       "    </tr>\n",
       "    <tr>\n",
       "      <th>17</th>\n",
       "      <td>transArchive_201107_201109_small.zip</td>\n",
       "      <td>9999</td>\n",
       "      <td>376</td>\n",
       "      <td>1</td>\n",
       "    </tr>\n",
       "    <tr>\n",
       "      <th>18</th>\n",
       "      <td>transArchive_201601_small.zip</td>\n",
       "      <td>9999</td>\n",
       "      <td>409</td>\n",
       "      <td>1</td>\n",
       "    </tr>\n",
       "    <tr>\n",
       "      <th>19</th>\n",
       "      <td>transArchive_201210_201212_inactive_small.zip</td>\n",
       "      <td>9999</td>\n",
       "      <td>449</td>\n",
       "      <td>6</td>\n",
       "    </tr>\n",
       "    <tr>\n",
       "      <th>20</th>\n",
       "      <td>transArchive_201010_201012_small.zip</td>\n",
       "      <td>9999</td>\n",
       "      <td>379</td>\n",
       "      <td>1</td>\n",
       "    </tr>\n",
       "    <tr>\n",
       "      <th>21</th>\n",
       "      <td>transArchive_201204_201206_small.zip</td>\n",
       "      <td>9999</td>\n",
       "      <td>334</td>\n",
       "      <td>1</td>\n",
       "    </tr>\n",
       "    <tr>\n",
       "      <th>22</th>\n",
       "      <td>transArchive_201410_201412_inactive_small.zip</td>\n",
       "      <td>7963</td>\n",
       "      <td>176</td>\n",
       "      <td>90</td>\n",
       "    </tr>\n",
       "    <tr>\n",
       "      <th>23</th>\n",
       "      <td>transArchive_201210_201212_small.zip</td>\n",
       "      <td>9999</td>\n",
       "      <td>391</td>\n",
       "      <td>1</td>\n",
       "    </tr>\n",
       "    <tr>\n",
       "      <th>24</th>\n",
       "      <td>transArchive_201104_small.zip</td>\n",
       "      <td>9999</td>\n",
       "      <td>377</td>\n",
       "      <td>1</td>\n",
       "    </tr>\n",
       "    <tr>\n",
       "      <th>25</th>\n",
       "      <td>transArchive_201307_201309_small.zip</td>\n",
       "      <td>9999</td>\n",
       "      <td>376</td>\n",
       "      <td>1</td>\n",
       "    </tr>\n",
       "    <tr>\n",
       "      <th>26</th>\n",
       "      <td>transArchive_201512_small.zip</td>\n",
       "      <td>9999</td>\n",
       "      <td>444</td>\n",
       "      <td>1</td>\n",
       "    </tr>\n",
       "    <tr>\n",
       "      <th>27</th>\n",
       "      <td>transArchive_201004_201006_small.zip</td>\n",
       "      <td>9999</td>\n",
       "      <td>364</td>\n",
       "      <td>1</td>\n",
       "    </tr>\n",
       "    <tr>\n",
       "      <th>28</th>\n",
       "      <td>transArchive_201207_201209_inactive_small.zip</td>\n",
       "      <td>9999</td>\n",
       "      <td>454</td>\n",
       "      <td>5</td>\n",
       "    </tr>\n",
       "    <tr>\n",
       "      <th>29</th>\n",
       "      <td>transArchive_201307_201309_inactive_small.zip</td>\n",
       "      <td>9999</td>\n",
       "      <td>406</td>\n",
       "      <td>8</td>\n",
       "    </tr>\n",
       "    <tr>\n",
       "      <th>30</th>\n",
       "      <td>transArchive_201507_201509_small.zip</td>\n",
       "      <td>9999</td>\n",
       "      <td>416</td>\n",
       "      <td>1</td>\n",
       "    </tr>\n",
       "    <tr>\n",
       "      <th>31</th>\n",
       "      <td>transArchive_201607_small.zip</td>\n",
       "      <td>9999</td>\n",
       "      <td>451</td>\n",
       "      <td>1</td>\n",
       "    </tr>\n",
       "    <tr>\n",
       "      <th>32</th>\n",
       "      <td>transArchive_201410_201412_small.zip</td>\n",
       "      <td>9999</td>\n",
       "      <td>392</td>\n",
       "      <td>1</td>\n",
       "    </tr>\n",
       "    <tr>\n",
       "      <th>33</th>\n",
       "      <td>transArchive_201404_201406_small.zip</td>\n",
       "      <td>9999</td>\n",
       "      <td>411</td>\n",
       "      <td>2</td>\n",
       "    </tr>\n",
       "    <tr>\n",
       "      <th>34</th>\n",
       "      <td>transArchive_201407_201409_inactive_small.zip</td>\n",
       "      <td>9999</td>\n",
       "      <td>218</td>\n",
       "      <td>25</td>\n",
       "    </tr>\n",
       "    <tr>\n",
       "      <th>35</th>\n",
       "      <td>transArchive_201602_small.zip</td>\n",
       "      <td>9999</td>\n",
       "      <td>442</td>\n",
       "      <td>1</td>\n",
       "    </tr>\n",
       "    <tr>\n",
       "      <th>36</th>\n",
       "      <td>transArchive_201301_201303_small.zip</td>\n",
       "      <td>9999</td>\n",
       "      <td>363</td>\n",
       "      <td>1</td>\n",
       "    </tr>\n",
       "    <tr>\n",
       "      <th>37</th>\n",
       "      <td>transArchive_201101_201103_small.zip</td>\n",
       "      <td>9999</td>\n",
       "      <td>313</td>\n",
       "      <td>1</td>\n",
       "    </tr>\n",
       "    <tr>\n",
       "      <th>38</th>\n",
       "      <td>transArchive_201511_small.zip</td>\n",
       "      <td>9999</td>\n",
       "      <td>419</td>\n",
       "      <td>1</td>\n",
       "    </tr>\n",
       "    <tr>\n",
       "      <th>39</th>\n",
       "      <td>transArchive_201610_small.zip</td>\n",
       "      <td>9999</td>\n",
       "      <td>452</td>\n",
       "      <td>1</td>\n",
       "    </tr>\n",
       "    <tr>\n",
       "      <th>40</th>\n",
       "      <td>transArchive_201604_small.zip</td>\n",
       "      <td>9999</td>\n",
       "      <td>465</td>\n",
       "      <td>1</td>\n",
       "    </tr>\n",
       "    <tr>\n",
       "      <th>41</th>\n",
       "      <td>transArchive_201501_201503_small.zip</td>\n",
       "      <td>9999</td>\n",
       "      <td>367</td>\n",
       "      <td>1</td>\n",
       "    </tr>\n",
       "    <tr>\n",
       "      <th>42</th>\n",
       "      <td>transArchive_201609_small.zip</td>\n",
       "      <td>9999</td>\n",
       "      <td>455</td>\n",
       "      <td>1</td>\n",
       "    </tr>\n",
       "    <tr>\n",
       "      <th>43</th>\n",
       "      <td>transArchive_201001_201003_small.zip</td>\n",
       "      <td>9999</td>\n",
       "      <td>332</td>\n",
       "      <td>1</td>\n",
       "    </tr>\n",
       "    <tr>\n",
       "      <th>44</th>\n",
       "      <td>transArchive_201603_small.zip</td>\n",
       "      <td>9999</td>\n",
       "      <td>468</td>\n",
       "      <td>1</td>\n",
       "    </tr>\n",
       "    <tr>\n",
       "      <th>45</th>\n",
       "      <td>transArchive_201106_small.zip</td>\n",
       "      <td>9999</td>\n",
       "      <td>397</td>\n",
       "      <td>1</td>\n",
       "    </tr>\n",
       "    <tr>\n",
       "      <th>46</th>\n",
       "      <td>transArchive_201201_201203_small.zip</td>\n",
       "      <td>9999</td>\n",
       "      <td>317</td>\n",
       "      <td>1</td>\n",
       "    </tr>\n",
       "    <tr>\n",
       "      <th>47</th>\n",
       "      <td>transArchive_201510_small.zip</td>\n",
       "      <td>9999</td>\n",
       "      <td>447</td>\n",
       "      <td>1</td>\n",
       "    </tr>\n",
       "    <tr>\n",
       "      <th>48</th>\n",
       "      <td>transArchive_201605_small.zip</td>\n",
       "      <td>9999</td>\n",
       "      <td>402</td>\n",
       "      <td>1</td>\n",
       "    </tr>\n",
       "    <tr>\n",
       "      <th>49</th>\n",
       "      <td>transArchive_201401_201403_small.zip</td>\n",
       "      <td>9999</td>\n",
       "      <td>315</td>\n",
       "      <td>1</td>\n",
       "    </tr>\n",
       "    <tr>\n",
       "      <th>50</th>\n",
       "      <td>transArchive_201611_small.zip</td>\n",
       "      <td>9999</td>\n",
       "      <td>485</td>\n",
       "      <td>1</td>\n",
       "    </tr>\n",
       "    <tr>\n",
       "      <th>51</th>\n",
       "      <td>transArchive_201608_small.zip</td>\n",
       "      <td>9999</td>\n",
       "      <td>440</td>\n",
       "      <td>1</td>\n",
       "    </tr>\n",
       "    <tr>\n",
       "      <th>52</th>\n",
       "      <td>transArchive_201701_small.zip</td>\n",
       "      <td>9999</td>\n",
       "      <td>413</td>\n",
       "      <td>1</td>\n",
       "    </tr>\n",
       "  </tbody>\n",
       "</table>\n",
       "</div>"
      ],
      "text/plain": [
       "                                        file_name  num_rows  num_cards  \\\n",
       "0            transArchive_201310_201312_small.zip      9999        399   \n",
       "1            transArchive_201207_201209_small.zip      9999        356   \n",
       "2   transArchive_201204_201206_inactive_small.zip      9999        464   \n",
       "3   transArchive_201304_201306_inactive_small.zip      9999        438   \n",
       "4            transArchive_201007_201009_small.zip      9999        398   \n",
       "5                   transArchive_201105_small.zip      9999        334   \n",
       "6            transArchive_201110_201112_small.zip      9999        351   \n",
       "7            transArchive_201304_201306_small.zip      9999        390   \n",
       "8   transArchive_201404_201406_inactive_small.zip      9999        238   \n",
       "9            transArchive_201504_201506_small.zip      9999        478   \n",
       "10                  transArchive_201612_small.zip      9999        464   \n",
       "11                  transArchive_201606_small.zip      9999        464   \n",
       "12  transArchive_201401_201403_inactive_small.zip      9999        288   \n",
       "13           transArchive_201407_201409_small.zip      9999        390   \n",
       "14  transArchive_201201_201203_inactive_small.zip      9999        461   \n",
       "15  transArchive_201301_201303_inactive_small.zip      9999        404   \n",
       "16  transArchive_201310_201312_inactive_small.zip      9999        358   \n",
       "17           transArchive_201107_201109_small.zip      9999        376   \n",
       "18                  transArchive_201601_small.zip      9999        409   \n",
       "19  transArchive_201210_201212_inactive_small.zip      9999        449   \n",
       "20           transArchive_201010_201012_small.zip      9999        379   \n",
       "21           transArchive_201204_201206_small.zip      9999        334   \n",
       "22  transArchive_201410_201412_inactive_small.zip      7963        176   \n",
       "23           transArchive_201210_201212_small.zip      9999        391   \n",
       "24                  transArchive_201104_small.zip      9999        377   \n",
       "25           transArchive_201307_201309_small.zip      9999        376   \n",
       "26                  transArchive_201512_small.zip      9999        444   \n",
       "27           transArchive_201004_201006_small.zip      9999        364   \n",
       "28  transArchive_201207_201209_inactive_small.zip      9999        454   \n",
       "29  transArchive_201307_201309_inactive_small.zip      9999        406   \n",
       "30           transArchive_201507_201509_small.zip      9999        416   \n",
       "31                  transArchive_201607_small.zip      9999        451   \n",
       "32           transArchive_201410_201412_small.zip      9999        392   \n",
       "33           transArchive_201404_201406_small.zip      9999        411   \n",
       "34  transArchive_201407_201409_inactive_small.zip      9999        218   \n",
       "35                  transArchive_201602_small.zip      9999        442   \n",
       "36           transArchive_201301_201303_small.zip      9999        363   \n",
       "37           transArchive_201101_201103_small.zip      9999        313   \n",
       "38                  transArchive_201511_small.zip      9999        419   \n",
       "39                  transArchive_201610_small.zip      9999        452   \n",
       "40                  transArchive_201604_small.zip      9999        465   \n",
       "41           transArchive_201501_201503_small.zip      9999        367   \n",
       "42                  transArchive_201609_small.zip      9999        455   \n",
       "43           transArchive_201001_201003_small.zip      9999        332   \n",
       "44                  transArchive_201603_small.zip      9999        468   \n",
       "45                  transArchive_201106_small.zip      9999        397   \n",
       "46           transArchive_201201_201203_small.zip      9999        317   \n",
       "47                  transArchive_201510_small.zip      9999        447   \n",
       "48                  transArchive_201605_small.zip      9999        402   \n",
       "49           transArchive_201401_201403_small.zip      9999        315   \n",
       "50                  transArchive_201611_small.zip      9999        485   \n",
       "51                  transArchive_201608_small.zip      9999        440   \n",
       "52                  transArchive_201701_small.zip      9999        413   \n",
       "\n",
       "    num_dates  \n",
       "0           1  \n",
       "1           1  \n",
       "2           4  \n",
       "3           7  \n",
       "4           1  \n",
       "5           1  \n",
       "6           1  \n",
       "7           1  \n",
       "8          19  \n",
       "9           1  \n",
       "10          1  \n",
       "11          1  \n",
       "12         15  \n",
       "13          1  \n",
       "14          5  \n",
       "15          6  \n",
       "16         10  \n",
       "17          1  \n",
       "18          1  \n",
       "19          6  \n",
       "20          1  \n",
       "21          1  \n",
       "22         90  \n",
       "23          1  \n",
       "24          1  \n",
       "25          1  \n",
       "26          1  \n",
       "27          1  \n",
       "28          5  \n",
       "29          8  \n",
       "30          1  \n",
       "31          1  \n",
       "32          1  \n",
       "33          2  \n",
       "34         25  \n",
       "35          1  \n",
       "36          1  \n",
       "37          1  \n",
       "38          1  \n",
       "39          1  \n",
       "40          1  \n",
       "41          1  \n",
       "42          1  \n",
       "43          1  \n",
       "44          1  \n",
       "45          1  \n",
       "46          1  \n",
       "47          1  \n",
       "48          1  \n",
       "49          1  \n",
       "50          1  \n",
       "51          1  \n",
       "52          1  "
      ]
     },
     "execution_count": 31,
     "metadata": {},
     "output_type": "execute_result"
    }
   ],
   "source": [
    "#final print out\n",
    "\n",
    "wedge_summary"
   ]
  },
  {
   "cell_type": "code",
   "execution_count": null,
   "id": "cdf942af",
   "metadata": {},
   "outputs": [],
   "source": []
  }
 ],
 "metadata": {
  "kernelspec": {
   "display_name": "Python 3 (ipykernel)",
   "language": "python",
   "name": "python3"
  },
  "language_info": {
   "codemirror_mode": {
    "name": "ipython",
    "version": 3
   },
   "file_extension": ".py",
   "mimetype": "text/x-python",
   "name": "python",
   "nbconvert_exporter": "python",
   "pygments_lexer": "ipython3",
   "version": "3.9.13"
  }
 },
 "nbformat": 4,
 "nbformat_minor": 5
}
